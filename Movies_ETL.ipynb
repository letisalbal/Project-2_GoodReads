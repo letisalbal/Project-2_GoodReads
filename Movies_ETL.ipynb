{
 "cells": [
  {
   "cell_type": "code",
   "execution_count": 143,
   "metadata": {},
   "outputs": [
    {
     "name": "stdout",
     "output_type": "stream",
     "text": [
      "Requirement already satisfied: missingno in /Users/eilishboyd/anaconda3/lib/python3.7/site-packages (0.4.2)\n",
      "Requirement already satisfied: matplotlib in /Users/eilishboyd/anaconda3/lib/python3.7/site-packages (from missingno) (3.0.3)\n",
      "Requirement already satisfied: seaborn in /Users/eilishboyd/anaconda3/lib/python3.7/site-packages (from missingno) (0.9.0)\n",
      "Requirement already satisfied: numpy in /Users/eilishboyd/anaconda3/lib/python3.7/site-packages (from missingno) (1.16.2)\n",
      "Requirement already satisfied: scipy in /Users/eilishboyd/anaconda3/lib/python3.7/site-packages (from missingno) (1.2.1)\n",
      "Requirement already satisfied: cycler>=0.10 in /Users/eilishboyd/anaconda3/lib/python3.7/site-packages (from matplotlib->missingno) (0.10.0)\n",
      "Requirement already satisfied: kiwisolver>=1.0.1 in /Users/eilishboyd/anaconda3/lib/python3.7/site-packages (from matplotlib->missingno) (1.0.1)\n",
      "Requirement already satisfied: pyparsing!=2.0.4,!=2.1.2,!=2.1.6,>=2.0.1 in /Users/eilishboyd/anaconda3/lib/python3.7/site-packages (from matplotlib->missingno) (2.3.1)\n",
      "Requirement already satisfied: python-dateutil>=2.1 in /Users/eilishboyd/anaconda3/lib/python3.7/site-packages (from matplotlib->missingno) (2.8.0)\n",
      "Requirement already satisfied: pandas>=0.15.2 in /Users/eilishboyd/anaconda3/lib/python3.7/site-packages (from seaborn->missingno) (0.24.2)\n",
      "Requirement already satisfied: six in /Users/eilishboyd/anaconda3/lib/python3.7/site-packages (from cycler>=0.10->matplotlib->missingno) (1.12.0)\n",
      "Requirement already satisfied: setuptools in /Users/eilishboyd/anaconda3/lib/python3.7/site-packages (from kiwisolver>=1.0.1->matplotlib->missingno) (40.8.0)\n",
      "Requirement already satisfied: pytz>=2011k in /Users/eilishboyd/anaconda3/lib/python3.7/site-packages (from pandas>=0.15.2->seaborn->missingno) (2018.9)\n"
     ]
    }
   ],
   "source": [
    "#Import Dependencies\n",
    "! pip install missingno\n",
    "import missingno as msno\n",
    "import numpy as np\n",
    "import pandas as pd\n",
    "import os\n",
    "import seaborn as sns\n",
    "from scipy.cluster.vq import kmeans, vq\n",
    "from pylab import plot, show\n",
    "from matplotlib.lines import Line2D\n",
    "import matplotlib.colors as mcolors\n",
<<<<<<< HEAD
    "import matplotlib.pyplot as plt"
=======
    "from matplotlib import pyplot as plt"
>>>>>>> b88c676c1c8849d0223ed964c168218ba93750ee
   ]
  },
  {
   "cell_type": "code",
   "execution_count": 144,
   "metadata": {},
   "outputs": [],
   "source": [
    "import warnings\n",
    "warnings.filterwarnings(\"ignore\")"
   ]
  },
  {
   "cell_type": "code",
   "execution_count": 145,
   "metadata": {},
   "outputs": [],
   "source": [
    "#Create the reference to the CSV for Movies\n",
    "movies_df = \"Resources/tmdb_5000_movies.csv\""
   ]
  },
  {
   "cell_type": "code",
   "execution_count": 146,
   "metadata": {
    "scrolled": true
   },
   "outputs": [
    {
     "data": {
      "text/html": [
       "<div>\n",
       "<style scoped>\n",
       "    .dataframe tbody tr th:only-of-type {\n",
       "        vertical-align: middle;\n",
       "    }\n",
       "\n",
       "    .dataframe tbody tr th {\n",
       "        vertical-align: top;\n",
       "    }\n",
       "\n",
       "    .dataframe thead th {\n",
       "        text-align: right;\n",
       "    }\n",
       "</style>\n",
       "<table border=\"1\" class=\"dataframe\">\n",
       "  <thead>\n",
       "    <tr style=\"text-align: right;\">\n",
       "      <th></th>\n",
       "      <th>budget</th>\n",
       "      <th>genres</th>\n",
       "      <th>homepage</th>\n",
       "      <th>id</th>\n",
       "      <th>keywords</th>\n",
       "      <th>original_language</th>\n",
       "      <th>original_title</th>\n",
       "      <th>overview</th>\n",
       "      <th>popularity</th>\n",
       "      <th>production_companies</th>\n",
       "      <th>production_countries</th>\n",
       "      <th>release_date</th>\n",
       "      <th>revenue</th>\n",
       "      <th>runtime</th>\n",
       "      <th>spoken_languages</th>\n",
       "      <th>status</th>\n",
       "      <th>tagline</th>\n",
       "      <th>title</th>\n",
       "      <th>vote_average</th>\n",
       "      <th>vote_count</th>\n",
       "    </tr>\n",
       "  </thead>\n",
       "  <tbody>\n",
       "    <tr>\n",
       "      <th>0</th>\n",
       "      <td>237000000</td>\n",
       "      <td>[{\"id\": 28, \"name\": \"Action\"}, {\"id\": 12, \"nam...</td>\n",
       "      <td>http://www.avatarmovie.com/</td>\n",
       "      <td>19995</td>\n",
       "      <td>[{\"id\": 1463, \"name\": \"culture clash\"}, {\"id\":...</td>\n",
       "      <td>en</td>\n",
       "      <td>Avatar</td>\n",
       "      <td>In the 22nd century, a paraplegic Marine is di...</td>\n",
       "      <td>150.437577</td>\n",
       "      <td>[{\"name\": \"Ingenious Film Partners\", \"id\": 289...</td>\n",
       "      <td>[{\"iso_3166_1\": \"US\", \"name\": \"United States o...</td>\n",
       "      <td>2009-12-10</td>\n",
       "      <td>2787965087</td>\n",
       "      <td>162.0</td>\n",
       "      <td>[{\"iso_639_1\": \"en\", \"name\": \"English\"}, {\"iso...</td>\n",
       "      <td>Released</td>\n",
       "      <td>Enter the World of Pandora.</td>\n",
       "      <td>Avatar</td>\n",
       "      <td>7.2</td>\n",
       "      <td>11800</td>\n",
       "    </tr>\n",
       "    <tr>\n",
       "      <th>1</th>\n",
       "      <td>300000000</td>\n",
       "      <td>[{\"id\": 12, \"name\": \"Adventure\"}, {\"id\": 14, \"...</td>\n",
       "      <td>http://disney.go.com/disneypictures/pirates/</td>\n",
       "      <td>285</td>\n",
       "      <td>[{\"id\": 270, \"name\": \"ocean\"}, {\"id\": 726, \"na...</td>\n",
       "      <td>en</td>\n",
       "      <td>Pirates of the Caribbean: At World's End</td>\n",
       "      <td>Captain Barbossa, long believed to be dead, ha...</td>\n",
       "      <td>139.082615</td>\n",
       "      <td>[{\"name\": \"Walt Disney Pictures\", \"id\": 2}, {\"...</td>\n",
       "      <td>[{\"iso_3166_1\": \"US\", \"name\": \"United States o...</td>\n",
       "      <td>2007-05-19</td>\n",
       "      <td>961000000</td>\n",
       "      <td>169.0</td>\n",
       "      <td>[{\"iso_639_1\": \"en\", \"name\": \"English\"}]</td>\n",
       "      <td>Released</td>\n",
       "      <td>At the end of the world, the adventure begins.</td>\n",
       "      <td>Pirates of the Caribbean: At World's End</td>\n",
       "      <td>6.9</td>\n",
       "      <td>4500</td>\n",
       "    </tr>\n",
       "    <tr>\n",
       "      <th>2</th>\n",
       "      <td>245000000</td>\n",
       "      <td>[{\"id\": 28, \"name\": \"Action\"}, {\"id\": 12, \"nam...</td>\n",
       "      <td>http://www.sonypictures.com/movies/spectre/</td>\n",
       "      <td>206647</td>\n",
       "      <td>[{\"id\": 470, \"name\": \"spy\"}, {\"id\": 818, \"name...</td>\n",
       "      <td>en</td>\n",
       "      <td>Spectre</td>\n",
       "      <td>A cryptic message from Bond’s past sends him o...</td>\n",
       "      <td>107.376788</td>\n",
       "      <td>[{\"name\": \"Columbia Pictures\", \"id\": 5}, {\"nam...</td>\n",
       "      <td>[{\"iso_3166_1\": \"GB\", \"name\": \"United Kingdom\"...</td>\n",
       "      <td>2015-10-26</td>\n",
       "      <td>880674609</td>\n",
       "      <td>148.0</td>\n",
       "      <td>[{\"iso_639_1\": \"fr\", \"name\": \"Fran\\u00e7ais\"},...</td>\n",
       "      <td>Released</td>\n",
       "      <td>A Plan No One Escapes</td>\n",
       "      <td>Spectre</td>\n",
       "      <td>6.3</td>\n",
       "      <td>4466</td>\n",
       "    </tr>\n",
       "    <tr>\n",
       "      <th>3</th>\n",
       "      <td>250000000</td>\n",
       "      <td>[{\"id\": 28, \"name\": \"Action\"}, {\"id\": 80, \"nam...</td>\n",
       "      <td>http://www.thedarkknightrises.com/</td>\n",
       "      <td>49026</td>\n",
       "      <td>[{\"id\": 849, \"name\": \"dc comics\"}, {\"id\": 853,...</td>\n",
       "      <td>en</td>\n",
       "      <td>The Dark Knight Rises</td>\n",
       "      <td>Following the death of District Attorney Harve...</td>\n",
       "      <td>112.312950</td>\n",
       "      <td>[{\"name\": \"Legendary Pictures\", \"id\": 923}, {\"...</td>\n",
       "      <td>[{\"iso_3166_1\": \"US\", \"name\": \"United States o...</td>\n",
       "      <td>2012-07-16</td>\n",
       "      <td>1084939099</td>\n",
       "      <td>165.0</td>\n",
       "      <td>[{\"iso_639_1\": \"en\", \"name\": \"English\"}]</td>\n",
       "      <td>Released</td>\n",
       "      <td>The Legend Ends</td>\n",
       "      <td>The Dark Knight Rises</td>\n",
       "      <td>7.6</td>\n",
       "      <td>9106</td>\n",
       "    </tr>\n",
       "    <tr>\n",
       "      <th>4</th>\n",
       "      <td>260000000</td>\n",
       "      <td>[{\"id\": 28, \"name\": \"Action\"}, {\"id\": 12, \"nam...</td>\n",
       "      <td>http://movies.disney.com/john-carter</td>\n",
       "      <td>49529</td>\n",
       "      <td>[{\"id\": 818, \"name\": \"based on novel\"}, {\"id\":...</td>\n",
       "      <td>en</td>\n",
       "      <td>John Carter</td>\n",
       "      <td>John Carter is a war-weary, former military ca...</td>\n",
       "      <td>43.926995</td>\n",
       "      <td>[{\"name\": \"Walt Disney Pictures\", \"id\": 2}]</td>\n",
       "      <td>[{\"iso_3166_1\": \"US\", \"name\": \"United States o...</td>\n",
       "      <td>2012-03-07</td>\n",
       "      <td>284139100</td>\n",
       "      <td>132.0</td>\n",
       "      <td>[{\"iso_639_1\": \"en\", \"name\": \"English\"}]</td>\n",
       "      <td>Released</td>\n",
       "      <td>Lost in our world, found in another.</td>\n",
       "      <td>John Carter</td>\n",
       "      <td>6.1</td>\n",
       "      <td>2124</td>\n",
       "    </tr>\n",
       "  </tbody>\n",
       "</table>\n",
       "</div>"
      ],
      "text/plain": [
       "      budget                                             genres  \\\n",
       "0  237000000  [{\"id\": 28, \"name\": \"Action\"}, {\"id\": 12, \"nam...   \n",
       "1  300000000  [{\"id\": 12, \"name\": \"Adventure\"}, {\"id\": 14, \"...   \n",
       "2  245000000  [{\"id\": 28, \"name\": \"Action\"}, {\"id\": 12, \"nam...   \n",
       "3  250000000  [{\"id\": 28, \"name\": \"Action\"}, {\"id\": 80, \"nam...   \n",
       "4  260000000  [{\"id\": 28, \"name\": \"Action\"}, {\"id\": 12, \"nam...   \n",
       "\n",
       "                                       homepage      id  \\\n",
       "0                   http://www.avatarmovie.com/   19995   \n",
       "1  http://disney.go.com/disneypictures/pirates/     285   \n",
       "2   http://www.sonypictures.com/movies/spectre/  206647   \n",
       "3            http://www.thedarkknightrises.com/   49026   \n",
       "4          http://movies.disney.com/john-carter   49529   \n",
       "\n",
       "                                            keywords original_language  \\\n",
       "0  [{\"id\": 1463, \"name\": \"culture clash\"}, {\"id\":...                en   \n",
       "1  [{\"id\": 270, \"name\": \"ocean\"}, {\"id\": 726, \"na...                en   \n",
       "2  [{\"id\": 470, \"name\": \"spy\"}, {\"id\": 818, \"name...                en   \n",
       "3  [{\"id\": 849, \"name\": \"dc comics\"}, {\"id\": 853,...                en   \n",
       "4  [{\"id\": 818, \"name\": \"based on novel\"}, {\"id\":...                en   \n",
       "\n",
       "                             original_title  \\\n",
       "0                                    Avatar   \n",
       "1  Pirates of the Caribbean: At World's End   \n",
       "2                                   Spectre   \n",
       "3                     The Dark Knight Rises   \n",
       "4                               John Carter   \n",
       "\n",
       "                                            overview  popularity  \\\n",
       "0  In the 22nd century, a paraplegic Marine is di...  150.437577   \n",
       "1  Captain Barbossa, long believed to be dead, ha...  139.082615   \n",
       "2  A cryptic message from Bond’s past sends him o...  107.376788   \n",
       "3  Following the death of District Attorney Harve...  112.312950   \n",
       "4  John Carter is a war-weary, former military ca...   43.926995   \n",
       "\n",
       "                                production_companies  \\\n",
       "0  [{\"name\": \"Ingenious Film Partners\", \"id\": 289...   \n",
       "1  [{\"name\": \"Walt Disney Pictures\", \"id\": 2}, {\"...   \n",
       "2  [{\"name\": \"Columbia Pictures\", \"id\": 5}, {\"nam...   \n",
       "3  [{\"name\": \"Legendary Pictures\", \"id\": 923}, {\"...   \n",
       "4        [{\"name\": \"Walt Disney Pictures\", \"id\": 2}]   \n",
       "\n",
       "                                production_countries release_date     revenue  \\\n",
       "0  [{\"iso_3166_1\": \"US\", \"name\": \"United States o...   2009-12-10  2787965087   \n",
       "1  [{\"iso_3166_1\": \"US\", \"name\": \"United States o...   2007-05-19   961000000   \n",
       "2  [{\"iso_3166_1\": \"GB\", \"name\": \"United Kingdom\"...   2015-10-26   880674609   \n",
       "3  [{\"iso_3166_1\": \"US\", \"name\": \"United States o...   2012-07-16  1084939099   \n",
       "4  [{\"iso_3166_1\": \"US\", \"name\": \"United States o...   2012-03-07   284139100   \n",
       "\n",
       "   runtime                                   spoken_languages    status  \\\n",
       "0    162.0  [{\"iso_639_1\": \"en\", \"name\": \"English\"}, {\"iso...  Released   \n",
       "1    169.0           [{\"iso_639_1\": \"en\", \"name\": \"English\"}]  Released   \n",
       "2    148.0  [{\"iso_639_1\": \"fr\", \"name\": \"Fran\\u00e7ais\"},...  Released   \n",
       "3    165.0           [{\"iso_639_1\": \"en\", \"name\": \"English\"}]  Released   \n",
       "4    132.0           [{\"iso_639_1\": \"en\", \"name\": \"English\"}]  Released   \n",
       "\n",
       "                                          tagline  \\\n",
       "0                     Enter the World of Pandora.   \n",
       "1  At the end of the world, the adventure begins.   \n",
       "2                           A Plan No One Escapes   \n",
       "3                                 The Legend Ends   \n",
       "4            Lost in our world, found in another.   \n",
       "\n",
       "                                      title  vote_average  vote_count  \n",
       "0                                    Avatar           7.2       11800  \n",
       "1  Pirates of the Caribbean: At World's End           6.9        4500  \n",
       "2                                   Spectre           6.3        4466  \n",
       "3                     The Dark Knight Rises           7.6        9106  \n",
       "4                               John Carter           6.1        2124  "
      ]
     },
     "execution_count": 146,
     "metadata": {},
     "output_type": "execute_result"
    }
   ],
   "source": [
    "#Read and display the CSV with Pandas DataFrame\n",
    "movies_df_pd = pd.read_csv(movies_df, error_bad_lines = False)\n",
    "movies_df_pd.head()"
   ]
  },
  {
   "cell_type": "code",
   "execution_count": 147,
   "metadata": {},
   "outputs": [],
   "source": [
    "## graph on cleaning here -- disregard\n",
    "\n",
    "# movies_df_pd.set_index('title')['vote_average'].plot();\n",
    "\n",
    "# movies_df_pd = pd.DataFrame({'Movie Title': ['Avatar', 'Pirates', 'Spectre', 'The Dark Knight', 'John Carter'], 'Average Vote':[7.2, 6.9, 6.3, 7.6, 6.1]})\n",
    "\n",
    "#ax = movies_df_pd.plot.bar(x='Movie Title', y='Average Vote', rot=60)"
   ]
  },
  {
   "cell_type": "code",
   "execution_count": null,
   "metadata": {},
   "outputs": [],
   "source": []
  },
  {
   "cell_type": "code",
   "execution_count": 148,
   "metadata": {},
   "outputs": [
    {
     "name": "stdout",
     "output_type": "stream",
     "text": [
      "Dataset contains 4803 rows and 20 columns\n"
     ]
    }
   ],
   "source": [
    "#Print the number of rows and columns\n",
    "print(\"Dataset contains {} rows and {} columns\".format(movies_df_pd.shape[0], movies_df_pd.shape[1]))"
   ]
  },
  {
   "cell_type": "code",
   "execution_count": 149,
   "metadata": {},
   "outputs": [
    {
     "data": {
      "text/plain": [
       "budget                    int64\n",
       "genres                   object\n",
       "homepage                 object\n",
       "id                        int64\n",
       "keywords                 object\n",
       "original_language        object\n",
       "original_title           object\n",
       "overview                 object\n",
       "popularity              float64\n",
       "production_companies     object\n",
       "production_countries     object\n",
       "release_date             object\n",
       "revenue                   int64\n",
       "runtime                 float64\n",
       "spoken_languages         object\n",
       "status                   object\n",
       "tagline                  object\n",
       "title                    object\n",
       "vote_average            float64\n",
       "vote_count                int64\n",
       "dtype: object"
      ]
     },
     "execution_count": 149,
     "metadata": {},
     "output_type": "execute_result"
    }
   ],
   "source": [
    "#Get a reference to the columns\n",
    "movies_df_pd.dtypes"
   ]
  },
  {
   "cell_type": "code",
   "execution_count": 150,
   "metadata": {},
   "outputs": [],
   "source": [
    "#Rename the Column\n",
    "new_movies_df = (movies_df_pd.rename(columns={'title': \"Title\",\n",
    "                                             'original_language': \"Original Language\",\n",
    "                                             'release_date': \"Release Date\"}))"
   ]
  },
  {
   "cell_type": "code",
   "execution_count": 151,
   "metadata": {},
   "outputs": [
    {
     "data": {
      "text/html": [
       "<div>\n",
       "<style scoped>\n",
       "    .dataframe tbody tr th:only-of-type {\n",
       "        vertical-align: middle;\n",
       "    }\n",
       "\n",
       "    .dataframe tbody tr th {\n",
       "        vertical-align: top;\n",
       "    }\n",
       "\n",
       "    .dataframe thead th {\n",
       "        text-align: right;\n",
       "    }\n",
       "</style>\n",
       "<table border=\"1\" class=\"dataframe\">\n",
       "  <thead>\n",
       "    <tr style=\"text-align: right;\">\n",
       "      <th></th>\n",
       "      <th>budget</th>\n",
       "      <th>genres</th>\n",
       "      <th>homepage</th>\n",
       "      <th>id</th>\n",
       "      <th>keywords</th>\n",
       "      <th>Original Language</th>\n",
       "      <th>original_title</th>\n",
       "      <th>overview</th>\n",
       "      <th>popularity</th>\n",
       "      <th>production_companies</th>\n",
       "      <th>production_countries</th>\n",
       "      <th>Release Date</th>\n",
       "      <th>revenue</th>\n",
       "      <th>runtime</th>\n",
       "      <th>spoken_languages</th>\n",
       "      <th>status</th>\n",
       "      <th>tagline</th>\n",
       "      <th>Title</th>\n",
       "      <th>vote_average</th>\n",
       "      <th>vote_count</th>\n",
       "    </tr>\n",
       "  </thead>\n",
       "  <tbody>\n",
       "    <tr>\n",
       "      <th>0</th>\n",
       "      <td>237000000</td>\n",
       "      <td>[{\"id\": 28, \"name\": \"Action\"}, {\"id\": 12, \"nam...</td>\n",
       "      <td>http://www.avatarmovie.com/</td>\n",
       "      <td>19995</td>\n",
       "      <td>[{\"id\": 1463, \"name\": \"culture clash\"}, {\"id\":...</td>\n",
       "      <td>en</td>\n",
       "      <td>Avatar</td>\n",
       "      <td>In the 22nd century, a paraplegic Marine is di...</td>\n",
       "      <td>150.437577</td>\n",
       "      <td>[{\"name\": \"Ingenious Film Partners\", \"id\": 289...</td>\n",
       "      <td>[{\"iso_3166_1\": \"US\", \"name\": \"United States o...</td>\n",
       "      <td>2009-12-10</td>\n",
       "      <td>2787965087</td>\n",
       "      <td>162.0</td>\n",
       "      <td>[{\"iso_639_1\": \"en\", \"name\": \"English\"}, {\"iso...</td>\n",
       "      <td>Released</td>\n",
       "      <td>Enter the World of Pandora.</td>\n",
       "      <td>Avatar</td>\n",
       "      <td>7.2</td>\n",
       "      <td>11800</td>\n",
       "    </tr>\n",
       "    <tr>\n",
       "      <th>1</th>\n",
       "      <td>300000000</td>\n",
       "      <td>[{\"id\": 12, \"name\": \"Adventure\"}, {\"id\": 14, \"...</td>\n",
       "      <td>http://disney.go.com/disneypictures/pirates/</td>\n",
       "      <td>285</td>\n",
       "      <td>[{\"id\": 270, \"name\": \"ocean\"}, {\"id\": 726, \"na...</td>\n",
       "      <td>en</td>\n",
       "      <td>Pirates of the Caribbean: At World's End</td>\n",
       "      <td>Captain Barbossa, long believed to be dead, ha...</td>\n",
       "      <td>139.082615</td>\n",
       "      <td>[{\"name\": \"Walt Disney Pictures\", \"id\": 2}, {\"...</td>\n",
       "      <td>[{\"iso_3166_1\": \"US\", \"name\": \"United States o...</td>\n",
       "      <td>2007-05-19</td>\n",
       "      <td>961000000</td>\n",
       "      <td>169.0</td>\n",
       "      <td>[{\"iso_639_1\": \"en\", \"name\": \"English\"}]</td>\n",
       "      <td>Released</td>\n",
       "      <td>At the end of the world, the adventure begins.</td>\n",
       "      <td>Pirates of the Caribbean: At World's End</td>\n",
       "      <td>6.9</td>\n",
       "      <td>4500</td>\n",
       "    </tr>\n",
       "    <tr>\n",
       "      <th>2</th>\n",
       "      <td>245000000</td>\n",
       "      <td>[{\"id\": 28, \"name\": \"Action\"}, {\"id\": 12, \"nam...</td>\n",
       "      <td>http://www.sonypictures.com/movies/spectre/</td>\n",
       "      <td>206647</td>\n",
       "      <td>[{\"id\": 470, \"name\": \"spy\"}, {\"id\": 818, \"name...</td>\n",
       "      <td>en</td>\n",
       "      <td>Spectre</td>\n",
       "      <td>A cryptic message from Bond’s past sends him o...</td>\n",
       "      <td>107.376788</td>\n",
       "      <td>[{\"name\": \"Columbia Pictures\", \"id\": 5}, {\"nam...</td>\n",
       "      <td>[{\"iso_3166_1\": \"GB\", \"name\": \"United Kingdom\"...</td>\n",
       "      <td>2015-10-26</td>\n",
       "      <td>880674609</td>\n",
       "      <td>148.0</td>\n",
       "      <td>[{\"iso_639_1\": \"fr\", \"name\": \"Fran\\u00e7ais\"},...</td>\n",
       "      <td>Released</td>\n",
       "      <td>A Plan No One Escapes</td>\n",
       "      <td>Spectre</td>\n",
       "      <td>6.3</td>\n",
       "      <td>4466</td>\n",
       "    </tr>\n",
       "    <tr>\n",
       "      <th>3</th>\n",
       "      <td>250000000</td>\n",
       "      <td>[{\"id\": 28, \"name\": \"Action\"}, {\"id\": 80, \"nam...</td>\n",
       "      <td>http://www.thedarkknightrises.com/</td>\n",
       "      <td>49026</td>\n",
       "      <td>[{\"id\": 849, \"name\": \"dc comics\"}, {\"id\": 853,...</td>\n",
       "      <td>en</td>\n",
       "      <td>The Dark Knight Rises</td>\n",
       "      <td>Following the death of District Attorney Harve...</td>\n",
       "      <td>112.312950</td>\n",
       "      <td>[{\"name\": \"Legendary Pictures\", \"id\": 923}, {\"...</td>\n",
       "      <td>[{\"iso_3166_1\": \"US\", \"name\": \"United States o...</td>\n",
       "      <td>2012-07-16</td>\n",
       "      <td>1084939099</td>\n",
       "      <td>165.0</td>\n",
       "      <td>[{\"iso_639_1\": \"en\", \"name\": \"English\"}]</td>\n",
       "      <td>Released</td>\n",
       "      <td>The Legend Ends</td>\n",
       "      <td>The Dark Knight Rises</td>\n",
       "      <td>7.6</td>\n",
       "      <td>9106</td>\n",
       "    </tr>\n",
       "    <tr>\n",
       "      <th>4</th>\n",
       "      <td>260000000</td>\n",
       "      <td>[{\"id\": 28, \"name\": \"Action\"}, {\"id\": 12, \"nam...</td>\n",
       "      <td>http://movies.disney.com/john-carter</td>\n",
       "      <td>49529</td>\n",
       "      <td>[{\"id\": 818, \"name\": \"based on novel\"}, {\"id\":...</td>\n",
       "      <td>en</td>\n",
       "      <td>John Carter</td>\n",
       "      <td>John Carter is a war-weary, former military ca...</td>\n",
       "      <td>43.926995</td>\n",
       "      <td>[{\"name\": \"Walt Disney Pictures\", \"id\": 2}]</td>\n",
       "      <td>[{\"iso_3166_1\": \"US\", \"name\": \"United States o...</td>\n",
       "      <td>2012-03-07</td>\n",
       "      <td>284139100</td>\n",
       "      <td>132.0</td>\n",
       "      <td>[{\"iso_639_1\": \"en\", \"name\": \"English\"}]</td>\n",
       "      <td>Released</td>\n",
       "      <td>Lost in our world, found in another.</td>\n",
       "      <td>John Carter</td>\n",
       "      <td>6.1</td>\n",
       "      <td>2124</td>\n",
       "    </tr>\n",
       "  </tbody>\n",
       "</table>\n",
       "</div>"
      ],
      "text/plain": [
       "      budget                                             genres  \\\n",
       "0  237000000  [{\"id\": 28, \"name\": \"Action\"}, {\"id\": 12, \"nam...   \n",
       "1  300000000  [{\"id\": 12, \"name\": \"Adventure\"}, {\"id\": 14, \"...   \n",
       "2  245000000  [{\"id\": 28, \"name\": \"Action\"}, {\"id\": 12, \"nam...   \n",
       "3  250000000  [{\"id\": 28, \"name\": \"Action\"}, {\"id\": 80, \"nam...   \n",
       "4  260000000  [{\"id\": 28, \"name\": \"Action\"}, {\"id\": 12, \"nam...   \n",
       "\n",
       "                                       homepage      id  \\\n",
       "0                   http://www.avatarmovie.com/   19995   \n",
       "1  http://disney.go.com/disneypictures/pirates/     285   \n",
       "2   http://www.sonypictures.com/movies/spectre/  206647   \n",
       "3            http://www.thedarkknightrises.com/   49026   \n",
       "4          http://movies.disney.com/john-carter   49529   \n",
       "\n",
       "                                            keywords Original Language  \\\n",
       "0  [{\"id\": 1463, \"name\": \"culture clash\"}, {\"id\":...                en   \n",
       "1  [{\"id\": 270, \"name\": \"ocean\"}, {\"id\": 726, \"na...                en   \n",
       "2  [{\"id\": 470, \"name\": \"spy\"}, {\"id\": 818, \"name...                en   \n",
       "3  [{\"id\": 849, \"name\": \"dc comics\"}, {\"id\": 853,...                en   \n",
       "4  [{\"id\": 818, \"name\": \"based on novel\"}, {\"id\":...                en   \n",
       "\n",
       "                             original_title  \\\n",
       "0                                    Avatar   \n",
       "1  Pirates of the Caribbean: At World's End   \n",
       "2                                   Spectre   \n",
       "3                     The Dark Knight Rises   \n",
       "4                               John Carter   \n",
       "\n",
       "                                            overview  popularity  \\\n",
       "0  In the 22nd century, a paraplegic Marine is di...  150.437577   \n",
       "1  Captain Barbossa, long believed to be dead, ha...  139.082615   \n",
       "2  A cryptic message from Bond’s past sends him o...  107.376788   \n",
       "3  Following the death of District Attorney Harve...  112.312950   \n",
       "4  John Carter is a war-weary, former military ca...   43.926995   \n",
       "\n",
       "                                production_companies  \\\n",
       "0  [{\"name\": \"Ingenious Film Partners\", \"id\": 289...   \n",
       "1  [{\"name\": \"Walt Disney Pictures\", \"id\": 2}, {\"...   \n",
       "2  [{\"name\": \"Columbia Pictures\", \"id\": 5}, {\"nam...   \n",
       "3  [{\"name\": \"Legendary Pictures\", \"id\": 923}, {\"...   \n",
       "4        [{\"name\": \"Walt Disney Pictures\", \"id\": 2}]   \n",
       "\n",
       "                                production_countries Release Date     revenue  \\\n",
       "0  [{\"iso_3166_1\": \"US\", \"name\": \"United States o...   2009-12-10  2787965087   \n",
       "1  [{\"iso_3166_1\": \"US\", \"name\": \"United States o...   2007-05-19   961000000   \n",
       "2  [{\"iso_3166_1\": \"GB\", \"name\": \"United Kingdom\"...   2015-10-26   880674609   \n",
       "3  [{\"iso_3166_1\": \"US\", \"name\": \"United States o...   2012-07-16  1084939099   \n",
       "4  [{\"iso_3166_1\": \"US\", \"name\": \"United States o...   2012-03-07   284139100   \n",
       "\n",
       "   runtime                                   spoken_languages    status  \\\n",
       "0    162.0  [{\"iso_639_1\": \"en\", \"name\": \"English\"}, {\"iso...  Released   \n",
       "1    169.0           [{\"iso_639_1\": \"en\", \"name\": \"English\"}]  Released   \n",
       "2    148.0  [{\"iso_639_1\": \"fr\", \"name\": \"Fran\\u00e7ais\"},...  Released   \n",
       "3    165.0           [{\"iso_639_1\": \"en\", \"name\": \"English\"}]  Released   \n",
       "4    132.0           [{\"iso_639_1\": \"en\", \"name\": \"English\"}]  Released   \n",
       "\n",
       "                                          tagline  \\\n",
       "0                     Enter the World of Pandora.   \n",
       "1  At the end of the world, the adventure begins.   \n",
       "2                           A Plan No One Escapes   \n",
       "3                                 The Legend Ends   \n",
       "4            Lost in our world, found in another.   \n",
       "\n",
       "                                      Title  vote_average  vote_count  \n",
       "0                                    Avatar           7.2       11800  \n",
       "1  Pirates of the Caribbean: At World's End           6.9        4500  \n",
       "2                                   Spectre           6.3        4466  \n",
       "3                     The Dark Knight Rises           7.6        9106  \n",
       "4                               John Carter           6.1        2124  "
      ]
     },
     "execution_count": 151,
     "metadata": {},
     "output_type": "execute_result"
    }
   ],
   "source": [
    "#Print the Column renamed\n",
    "new_movies_df.head()"
   ]
  },
  {
   "cell_type": "code",
   "execution_count": 152,
   "metadata": {
    "scrolled": true
   },
   "outputs": [
    {
     "data": {
      "text/html": [
       "<div>\n",
       "<style scoped>\n",
       "    .dataframe tbody tr th:only-of-type {\n",
       "        vertical-align: middle;\n",
       "    }\n",
       "\n",
       "    .dataframe tbody tr th {\n",
       "        vertical-align: top;\n",
       "    }\n",
       "\n",
       "    .dataframe thead th {\n",
       "        text-align: right;\n",
       "    }\n",
       "</style>\n",
       "<table border=\"1\" class=\"dataframe\">\n",
       "  <thead>\n",
       "    <tr style=\"text-align: right;\">\n",
       "      <th></th>\n",
       "      <th>Original Language</th>\n",
       "      <th>Release Date</th>\n",
       "      <th>Title</th>\n",
       "    </tr>\n",
       "  </thead>\n",
       "  <tbody>\n",
       "    <tr>\n",
       "      <th>0</th>\n",
       "      <td>en</td>\n",
       "      <td>2009-12-10</td>\n",
       "      <td>Avatar</td>\n",
       "    </tr>\n",
       "    <tr>\n",
       "      <th>1</th>\n",
       "      <td>en</td>\n",
       "      <td>2007-05-19</td>\n",
       "      <td>Pirates of the Caribbean: At World's End</td>\n",
       "    </tr>\n",
       "    <tr>\n",
       "      <th>2</th>\n",
       "      <td>en</td>\n",
       "      <td>2015-10-26</td>\n",
       "      <td>Spectre</td>\n",
       "    </tr>\n",
       "    <tr>\n",
       "      <th>3</th>\n",
       "      <td>en</td>\n",
       "      <td>2012-07-16</td>\n",
       "      <td>The Dark Knight Rises</td>\n",
       "    </tr>\n",
       "    <tr>\n",
       "      <th>4</th>\n",
       "      <td>en</td>\n",
       "      <td>2012-03-07</td>\n",
       "      <td>John Carter</td>\n",
       "    </tr>\n",
       "  </tbody>\n",
       "</table>\n",
       "</div>"
      ],
      "text/plain": [
       "  Original Language Release Date                                     Title\n",
       "0                en   2009-12-10                                    Avatar\n",
       "1                en   2007-05-19  Pirates of the Caribbean: At World's End\n",
       "2                en   2015-10-26                                   Spectre\n",
       "3                en   2012-07-16                     The Dark Knight Rises\n",
       "4                en   2012-03-07                               John Carter"
      ]
     },
     "execution_count": 152,
     "metadata": {},
     "output_type": "execute_result"
    }
   ],
   "source": [
    "#Drop the columns not needed and print\n",
    "new_movies_df_1 = new_movies_df.drop(['budget', 'genres', 'homepage', 'id', 'keywords', 'original_title', 'overview', 'popularity', 'production_companies', 'production_countries', 'revenue', 'runtime', 'spoken_languages', 'status', 'tagline', 'vote_average', 'vote_count'], axis = 1) \n",
    "new_movies_df_1.head()"
   ]
  },
  {
   "cell_type": "code",
<<<<<<< HEAD
   "execution_count": 11,
   "metadata": {},
   "outputs": [
    {
     "data": {
      "text/plain": [
       "Text(0.5, 1.0, 'Language vs. Count')"
      ]
     },
     "execution_count": 11,
     "metadata": {},
     "output_type": "execute_result"
    },
    {
     "data": {
      "image/png": "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\n",
      "text/plain": [
       "<Figure size 1080x360 with 1 Axes>"
      ]
     },
     "metadata": {
      "needs_background": "light"
     },
     "output_type": "display_data"
    }
   ],
   "source": [
    "plt.figure(figsize=(15,5))\n",
    "ax = new_movies_df_1['Original Language'].value_counts().plot(kind='bar')\n",
    "ax.set_xlabel('Language', fontsize=16)\n",
    "ax.set_ylabel('Count', fontsize=16)\n",
    "ax.set_title('Language vs. Count', fontsize=20)"
=======
   "execution_count": 153,
   "metadata": {},
   "outputs": [],
   "source": [
    "#msno.heatmap(new_movies_df_1)"
>>>>>>> b88c676c1c8849d0223ed964c168218ba93750ee
   ]
  },
  {
   "cell_type": "code",
   "execution_count": 217,
   "metadata": {},
   "outputs": [
    {
     "data": {
      "text/plain": [
       "Text(0.5, 1.0, 'Language vs. Count')"
      ]
     },
     "execution_count": 217,
     "metadata": {},
     "output_type": "execute_result"
    },
    {
     "data": {
      "image/png": "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\n",
      "text/plain": [
       "<Figure size 1080x360 with 1 Axes>"
      ]
     },
     "metadata": {
      "needs_background": "light"
     },
     "output_type": "display_data"
    }
   ],
   "source": [
    "plt.figure(figsize=(15,5))\n",
    "ax = new_movies_df_1['Original Language'].value_counts().plot(kind='bar')\n",
    "\n",
    "ax.set_xlabel('Language', fontsize=16)\n",
    "ax.set_ylabel('Count', fontsize=16)\n",
    "\n",
    "ax.set_title('Language vs. Count', fontsize=20)\n",
    "\n"
   ]
  },
  {
   "cell_type": "code",
   "execution_count": null,
   "metadata": {},
   "outputs": [],
   "source": []
  },
  {
   "cell_type": "code",
   "execution_count": 218,
   "metadata": {},
   "outputs": [
    {
     "data": {
      "text/html": [
       "<div>\n",
       "<style scoped>\n",
       "    .dataframe tbody tr th:only-of-type {\n",
       "        vertical-align: middle;\n",
       "    }\n",
       "\n",
       "    .dataframe tbody tr th {\n",
       "        vertical-align: top;\n",
       "    }\n",
       "\n",
       "    .dataframe thead th {\n",
       "        text-align: right;\n",
       "    }\n",
       "</style>\n",
       "<table border=\"1\" class=\"dataframe\">\n",
       "  <thead>\n",
       "    <tr style=\"text-align: right;\">\n",
       "      <th></th>\n",
       "      <th>Title</th>\n",
       "      <th>Original Language</th>\n",
       "      <th>Release Date</th>\n",
       "    </tr>\n",
       "  </thead>\n",
       "  <tbody>\n",
       "    <tr>\n",
       "      <th>0</th>\n",
       "      <td>Avatar</td>\n",
       "      <td>en</td>\n",
       "      <td>2009-12-10</td>\n",
       "    </tr>\n",
       "    <tr>\n",
       "      <th>1</th>\n",
       "      <td>Pirates of the Caribbean: At World's End</td>\n",
       "      <td>en</td>\n",
       "      <td>2007-05-19</td>\n",
       "    </tr>\n",
       "    <tr>\n",
       "      <th>2</th>\n",
       "      <td>Spectre</td>\n",
       "      <td>en</td>\n",
       "      <td>2015-10-26</td>\n",
       "    </tr>\n",
       "    <tr>\n",
       "      <th>3</th>\n",
       "      <td>The Dark Knight Rises</td>\n",
       "      <td>en</td>\n",
       "      <td>2012-07-16</td>\n",
       "    </tr>\n",
       "    <tr>\n",
       "      <th>4</th>\n",
       "      <td>John Carter</td>\n",
       "      <td>en</td>\n",
       "      <td>2012-03-07</td>\n",
       "    </tr>\n",
       "  </tbody>\n",
       "</table>\n",
       "</div>"
      ],
      "text/plain": [
       "                                      Title Original Language Release Date\n",
       "0                                    Avatar                en   2009-12-10\n",
       "1  Pirates of the Caribbean: At World's End                en   2007-05-19\n",
       "2                                   Spectre                en   2015-10-26\n",
       "3                     The Dark Knight Rises                en   2012-07-16\n",
       "4                               John Carter                en   2012-03-07"
      ]
     },
     "execution_count": 218,
     "metadata": {},
     "output_type": "execute_result"
    }
   ],
   "source": [
    "#Sort 'Title' column to be the first column\n",
    "new_movies_df = new_movies_df[['Title', 'Original Language', 'Release Date']]\n",
    "new_movies_df.head()"
   ]
  },
  {
   "cell_type": "code",
   "execution_count": 69,
   "metadata": {},
   "outputs": [
    {
     "data": {
      "text/html": [
       "<div>\n",
       "<style scoped>\n",
       "    .dataframe tbody tr th:only-of-type {\n",
       "        vertical-align: middle;\n",
       "    }\n",
       "\n",
       "    .dataframe tbody tr th {\n",
       "        vertical-align: top;\n",
       "    }\n",
       "\n",
       "    .dataframe thead th {\n",
       "        text-align: right;\n",
       "    }\n",
       "</style>\n",
       "<table border=\"1\" class=\"dataframe\">\n",
       "  <thead>\n",
       "    <tr style=\"text-align: right;\">\n",
       "      <th></th>\n",
       "      <th>Title</th>\n",
       "      <th>Original Language</th>\n",
       "      <th>Release Date</th>\n",
       "    </tr>\n",
       "  </thead>\n",
       "  <tbody>\n",
       "    <tr>\n",
       "      <th>4257</th>\n",
       "      <td>#Horror</td>\n",
       "      <td>de</td>\n",
       "      <td>2015-11-20</td>\n",
       "    </tr>\n",
       "    <tr>\n",
       "      <th>3339</th>\n",
       "      <td>(500) Days of Summer</td>\n",
       "      <td>en</td>\n",
       "      <td>2009-07-17</td>\n",
       "    </tr>\n",
       "    <tr>\n",
       "      <th>3556</th>\n",
       "      <td>10 Cloverfield Lane</td>\n",
       "      <td>en</td>\n",
       "      <td>2016-03-10</td>\n",
       "    </tr>\n",
       "    <tr>\n",
       "      <th>2903</th>\n",
       "      <td>10 Days in a Madhouse</td>\n",
       "      <td>en</td>\n",
       "      <td>2015-11-20</td>\n",
       "    </tr>\n",
       "    <tr>\n",
       "      <th>2739</th>\n",
       "      <td>10 Things I Hate About You</td>\n",
       "      <td>en</td>\n",
       "      <td>1999-03-30</td>\n",
       "    </tr>\n",
       "  </tbody>\n",
       "</table>\n",
       "</div>"
      ],
      "text/plain": [
       "                           Title Original Language Release Date\n",
       "4257                     #Horror                de   2015-11-20\n",
       "3339        (500) Days of Summer                en   2009-07-17\n",
       "3556         10 Cloverfield Lane                en   2016-03-10\n",
       "2903       10 Days in a Madhouse                en   2015-11-20\n",
       "2739  10 Things I Hate About You                en   1999-03-30"
      ]
     },
     "execution_count": 69,
     "metadata": {},
     "output_type": "execute_result"
    }
   ],
   "source": [
    "#Sort Title Column in Ascending order\n",
    "new_movies_df.sort_values('Title',inplace=True)\n",
    "new_movies_df.head()"
   ]
  },
  {
   "cell_type": "code",
<<<<<<< HEAD
   "execution_count": 70,
=======
   "execution_count": 12,
   "metadata": {},
   "outputs": [
    {
     "data": {
      "text/plain": [
       "Release Date    1\n",
       "dtype: int64"
      ]
     },
     "execution_count": 12,
     "metadata": {},
     "output_type": "execute_result"
    }
   ],
   "source": [
    "#Find how many Null Values there are\n",
    "null_columns = new_movies_df.columns[new_movies_df.isnull().any()]\n",
    "new_movies_df[null_columns].isnull().sum()"
   ]
  },
  {
   "cell_type": "code",
   "execution_count": 13,
   "metadata": {},
   "outputs": [
    {
     "data": {
      "text/plain": [
       "Title                America Is Still the Place\n",
       "Original Language                            en\n",
       "Release Date                                NaN\n",
       "Name: 4553, dtype: object"
      ]
     },
     "execution_count": 13,
     "metadata": {},
     "output_type": "execute_result"
    }
   ],
   "source": [
    "#Locate the null value to the movie title\n",
    "new_movies_df.loc[4553]"
   ]
  },
  {
   "cell_type": "code",
   "execution_count": 14,
>>>>>>> 5c6f1b3d18d1a3ba5514660129236823ff312a18
   "metadata": {},
   "outputs": [],
   "source": [
    "#Fill in Null Value\n",
    "new_movies_df2 = new_movies_df.fillna(\"2015-03-01\")\n"
   ]
  },
  {
   "cell_type": "code",
   "execution_count": 15,
   "metadata": {},
   "outputs": [
    {
     "name": "stdout",
     "output_type": "stream",
     "text": [
      "     Release Date\n",
      "4553   2015-03-01\n"
     ]
    }
   ],
   "source": [
    "print(new_movies_df2[new_movies_df[\"Release Date\"].isnull()][null_columns])"
   ]
  },
  {
   "cell_type": "code",
   "execution_count": 16,
   "metadata": {},
   "outputs": [
    {
     "data": {
      "text/html": [
       "<div>\n",
       "<style scoped>\n",
       "    .dataframe tbody tr th:only-of-type {\n",
       "        vertical-align: middle;\n",
       "    }\n",
       "\n",
       "    .dataframe tbody tr th {\n",
       "        vertical-align: top;\n",
       "    }\n",
       "\n",
       "    .dataframe thead th {\n",
       "        text-align: right;\n",
       "    }\n",
       "</style>\n",
       "<table border=\"1\" class=\"dataframe\">\n",
       "  <thead>\n",
       "    <tr style=\"text-align: right;\">\n",
       "      <th></th>\n",
       "      <th>Title</th>\n",
       "      <th>Original Language</th>\n",
       "      <th>Release Date</th>\n",
       "    </tr>\n",
       "  </thead>\n",
       "  <tbody>\n",
       "    <tr>\n",
       "      <th>4257</th>\n",
       "      <td>#Horror</td>\n",
       "      <td>de</td>\n",
       "      <td>2015-11-20</td>\n",
       "    </tr>\n",
       "    <tr>\n",
       "      <th>3339</th>\n",
       "      <td>(500) Days of Summer</td>\n",
       "      <td>en</td>\n",
       "      <td>2009-07-17</td>\n",
       "    </tr>\n",
       "    <tr>\n",
       "      <th>3556</th>\n",
       "      <td>10 Cloverfield Lane</td>\n",
       "      <td>en</td>\n",
       "      <td>2016-03-10</td>\n",
       "    </tr>\n",
       "    <tr>\n",
       "      <th>2903</th>\n",
       "      <td>10 Days in a Madhouse</td>\n",
       "      <td>en</td>\n",
       "      <td>2015-11-20</td>\n",
       "    </tr>\n",
       "    <tr>\n",
       "      <th>2739</th>\n",
       "      <td>10 Things I Hate About You</td>\n",
       "      <td>en</td>\n",
       "      <td>1999-03-30</td>\n",
       "    </tr>\n",
       "  </tbody>\n",
       "</table>\n",
       "</div>"
      ],
      "text/plain": [
       "                           Title Original Language Release Date\n",
       "4257                     #Horror                de   2015-11-20\n",
       "3339        (500) Days of Summer                en   2009-07-17\n",
       "3556         10 Cloverfield Lane                en   2016-03-10\n",
       "2903       10 Days in a Madhouse                en   2015-11-20\n",
       "2739  10 Things I Hate About You                en   1999-03-30"
      ]
     },
     "execution_count": 16,
     "metadata": {},
     "output_type": "execute_result"
    }
   ],
   "source": [
    "#Print new table\n",
    "new_movies_df2.head()"
   ]
  },
  {
   "cell_type": "code",
   "execution_count": null,
   "metadata": {},
   "outputs": [],
   "source": []
  }
 ],
 "metadata": {
  "kernelspec": {
   "display_name": "Python 3",
   "language": "python",
   "name": "python3"
  },
  "language_info": {
   "codemirror_mode": {
    "name": "ipython",
    "version": 3
   },
   "file_extension": ".py",
   "mimetype": "text/x-python",
   "name": "python",
   "nbconvert_exporter": "python",
   "pygments_lexer": "ipython3",
   "version": "3.7.3"
  }
 },
 "nbformat": 4,
 "nbformat_minor": 2
}
